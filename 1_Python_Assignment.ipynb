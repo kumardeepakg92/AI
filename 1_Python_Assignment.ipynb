{
  "nbformat": 4,
  "nbformat_minor": 0,
  "metadata": {
    "kernelspec": {
      "display_name": "Python 3",
      "language": "python",
      "name": "python3"
    },
    "language_info": {
      "codemirror_mode": {
        "name": "ipython",
        "version": 3
      },
      "file_extension": ".py",
      "mimetype": "text/x-python",
      "name": "python",
      "nbconvert_exporter": "python",
      "pygments_lexer": "ipython3",
      "version": "3.6.8"
    },
    "colab": {
      "name": "1.Python Assignment.ipynb",
      "provenance": [],
      "collapsed_sections": []
    }
  },
  "cells": [
    {
      "cell_type": "markdown",
      "metadata": {
        "id": "l0ZzOlyxB-kf"
      },
      "source": [
        "<h1>Python: without numpy or sklearn </h1>"
      ]
    },
    {
      "cell_type": "markdown",
      "metadata": {
        "id": "C0xO8JV9B-ki"
      },
      "source": [
        "<h3> Q1: Given two matrices please print the product of those two matrices </h3>\n",
        "<pre>\n",
        "\n",
        "Ex 1: A   = [[1 3 4]\n",
        "             [2 5 7]\n",
        "             [5 9 6]]\n",
        "      B   = [[1 0 0]\n",
        "             [0 1 0]\n",
        "             [0 0 1]]\n",
        "      A*B = [[1 3 4]\n",
        "             [2 5 7]\n",
        "             [5 9 6]]\n",
        "\n",
        "     \n",
        "Ex 2: A   = [[1 2]\n",
        "             [3 4]]\n",
        "      B   = [[1 2 3 4 5]\n",
        "             [5 6 7 8 9]]\n",
        "      A*B = [[11 14 17 20 23]\n",
        "             [18 24 30 36 42]]\n",
        "             \n",
        "Ex 3: A   = [[1 2]\n",
        "             [3 4]]\n",
        "      B   = [[1 4]\n",
        "             [5 6]\n",
        "             [7 8]\n",
        "             [9 6]]\n",
        "      A*B =Not possible\n",
        "</pre>"
      ]
    },
    {
      "cell_type": "code",
      "metadata": {
        "id": "rnssAfpgB-kj",
        "outputId": "9fc0c4a4-33fb-4ea2-9e5b-5c82ff1a94ed",
        "colab": {
          "base_uri": "https://localhost:8080/"
        }
      },
      "source": [
        "# write your python code here\n",
        "# you can take the above example as sample input for your program to test\n",
        "# it should work for any general input try not to hard code for only given input examples\n",
        "\n",
        "\n",
        "# you can free to change all these codes/structure\n",
        "# here A and B are list of lists\n",
        "\"\"\"\n",
        "A   = [[1,3,4],\n",
        "       [2,5,7],\n",
        "       [5,9,6]]\n",
        "B   = [[1,0,0],\n",
        "       [0,1,0],\n",
        "       [0,0,1]]\n",
        "\"\"\"\n",
        "A   = [[1,2],\n",
        "       [3,4]]\n",
        "B   = [[1,2,3,4,5],\n",
        "       [5,6,7,8,9]]\n",
        "\"\"\"\n",
        "A   = [[1,2],\n",
        "       [3,4]]\n",
        "B   = [[1,4],\n",
        "       [5,6],\n",
        "       [7,8],\n",
        "       [9,6]]\n",
        "\"\"\"\n",
        "def matrix_mul(A, B):\n",
        "    a_row=len(A)\n",
        "    a_col=len(A[0])\n",
        "    b_row=len(B)\n",
        "    b_col=len(B[0])\n",
        "    if a_col==b_row:\n",
        "      print('Matrix Multiplication possible')\n",
        "      result=[]\n",
        "      for x in range(b_row):#2\n",
        "        row=[]\n",
        "        for y in range(b_col):#3\n",
        "          val=0\n",
        "          for z in range(b_row):\n",
        "            val+=A[x][z]*B[z][y]\n",
        "          row.append(val)\n",
        "        result.append(row)\n",
        "      print(result)\n",
        "    else:\n",
        "      print('Matrix multiplication not possible')\n",
        "matrix_mul(A, B)"
      ],
      "execution_count": 2,
      "outputs": [
        {
          "output_type": "stream",
          "name": "stdout",
          "text": [
            "Matrix Multiplication possible\n",
            "[[11, 14, 17, 20, 23], [23, 30, 37, 44, 51]]\n"
          ]
        }
      ]
    },
    {
      "cell_type": "markdown",
      "metadata": {
        "id": "at4VwLggB-kn"
      },
      "source": [
        "<h3> Q2: Select a number randomly with probability proportional to its magnitude from the given array of n elements</h3>\n",
        "\n",
        "consider an experiment, selecting an element from the list A randomly with probability proportional to its magnitude.\n",
        "assume we are doing the same experiment for 100 times with replacement, in each experiment you will print a number that is selected randomly from A.\n",
        "\n",
        "<pre>\n",
        "Ex 1: A = [0 5 27 6 13 28 100 45 10 79]\n",
        "let f(x) denote the number of times x getting selected in 100 experiments.\n",
        "f(100) > f(79) > f(45) > f(28) > f(27) > f(13) > f(10) > f(6) > f(5) > f(0)\n",
        "</pre>"
      ]
    },
    {
      "cell_type": "code",
      "metadata": {
        "id": "B6S2dpBhB-kn",
        "outputId": "7d97cb91-c393-4ea9-a817-fe324dacbde0",
        "colab": {
          "base_uri": "https://localhost:8080/"
        }
      },
      "source": [
        "from random import uniform\n",
        "# write your python code here\n",
        "# you can take the above example as sample input for your program to test\n",
        "# it should work for any general input try not to hard code for only given input examples\n",
        "\n",
        "\n",
        "# you can free to change all these codes/structure\n",
        "def probability_proportional(A):\n",
        "  li_sum=0\n",
        "  normalize=[]\n",
        "  cum_sum=[]\n",
        "  for i in A:\n",
        "    li_sum+=i\n",
        "  for j in A:\n",
        "    normalize.append(j/li_sum)\n",
        "  for k in normalize:\n",
        "    val=0\n",
        "    cum_sum.append(val+k)\n",
        "  rand=uniform(0,1)\n",
        "  \"\"\"for i in range(len(cum_sum)):\n",
        "    if rand<cum_sum[i]:\n",
        "      prop_samp=i\n",
        "  return prop_samp\n",
        "  \"\"\"\n",
        "  #print(rand)\n",
        "  #print(A)\n",
        "  #print(cum_sum)\n",
        "  if rand<cum_sum[0]:\n",
        "    return A[0]\n",
        "  elif rand>cum_sum[0] and rand <cum_sum[1]:\n",
        "    return A[1]\n",
        "  elif rand<cum_sum[2]:\n",
        "    return A[2]\n",
        "  elif rand<cum_sum[3]:\n",
        "    return A[3]\n",
        "  elif rand<cum_sum[4]:\n",
        "    return A[4]\n",
        "  elif rand<cum_sum[5]:\n",
        "    return A[5]\n",
        "  elif rand<cum_sum[6]:\n",
        "    return A[6]\n",
        "  elif rand <cum_sum[7]:\n",
        "    return A[7]\n",
        "  elif rand<cum_sum[8]:\n",
        "    return A[8]\n",
        "  else:\n",
        "    return A[9]\n",
        "\n",
        "  #print(rand,prop_samp)\n",
        "A=[0, 5, 27, 6, 13, 28, 100, 45, 10, 79]\n",
        "A.sort()\n",
        "output={}\n",
        "for k in A:\n",
        "  output[k]=0\n",
        "def sampling_based_on_magnitued():\n",
        "  for i in range(1,100):\n",
        "    number = probability_proportional(A)\n",
        "    x=output[number]\n",
        "    x+=1\n",
        "    output[number]=x\n",
        "sampling_based_on_magnitued()\n",
        "print(output)"
      ],
      "execution_count": 3,
      "outputs": [
        {
          "output_type": "stream",
          "name": "stdout",
          "text": [
            "{0: 0, 5: 1, 6: 0, 10: 1, 13: 1, 27: 4, 28: 1, 45: 6, 79: 10, 100: 75}\n"
          ]
        }
      ]
    },
    {
      "cell_type": "markdown",
      "metadata": {
        "id": "D1xQy2WWB-kq"
      },
      "source": [
        "<h3> Q3: Replace the digits in the string with #</h3>\n",
        "\n",
        "consider a string that will have digits in that, we need to remove all the not digits and replace the digits with #\n",
        "<pre>\n",
        "Ex 1: A = 234                Output: ###\n",
        "Ex 2: A = a2b3c4             Output: ###\n",
        "Ex 3: A = abc                Output:   (empty string)\n",
        "Ex 5: A = #2a$#b%c%561#      Output: ####\n",
        "</pre>"
      ]
    },
    {
      "cell_type": "code",
      "metadata": {
        "id": "fxczi2jzB-kr",
        "outputId": "bc126923-8ab5-4016-cddd-b7f34592a631",
        "colab": {
          "base_uri": "https://localhost:8080/"
        }
      },
      "source": [
        "import re\n",
        "# write your python code here\n",
        "# you can take the above example as sample input for your program to test\n",
        "# it should work for any general input try not to hard code for only given input examples\n",
        "\n",
        "# you can free to change all these codes/structure\n",
        "# String: it will be the input to your program\n",
        "#A = \"234\"\n",
        "#A = \"a2b3c4\"\n",
        "#A = \"abc\"\n",
        "A = \"#2a$#b%c%561#\"\n",
        "def replace_digits(String):\n",
        "    # write your code\n",
        "    x = re.findall(\"[0-9]\",A)\n",
        "    print(x)\n",
        "    if len(x)>0:\n",
        "        for x in range(len(x)):\n",
        "            print(end=\"#\")\n",
        "    else:\n",
        "      print(\"Empty String\")\n",
        "replace_digits(A)"
      ],
      "execution_count": 4,
      "outputs": [
        {
          "output_type": "stream",
          "name": "stdout",
          "text": [
            "['2', '5', '6', '1']\n",
            "####"
          ]
        }
      ]
    },
    {
      "cell_type": "markdown",
      "metadata": {
        "id": "j7h0Ywg7B-kw"
      },
      "source": [
        "<h3> Q4: Students marks dashboard</h3>\n",
        "\n",
        "consider the marks list of class students given two lists <br>\n",
        "Students = ['student1','student2','student3','student4','student5','student6','student7','student8','student9','student10'] <br>\n",
        "Marks = [45, 78, 12, 14, 48, 43, 45, 98, 35, 80] <br>\n",
        "from the above two lists the Student[0] got Marks[0],  Student[1] got Marks[1] and so on <br><br>\n",
        "your task is to print the name of students\n",
        "<strong>a. Who got top 5 ranks, in the descending order of marks</strong> <br>\n",
        "<strong>b. Who got least 5 ranks, in the increasing order of marks</strong><br>\n",
        "<strong>d. Who got marks between  &gt;25th percentile &lt;75th percentile, in the increasing order of marks</strong>\n",
        "\n",
        "<pre>\n",
        "Ex 1: \n",
        "Students=['student1','student2','student3','student4','student5','student6','student7','student8','student9','student10'] \n",
        "Marks = [45, 78, 12, 14, 48, 43, 47, 98, 35, 80]\n",
        "a. \n",
        "student8  98\n",
        "student10 80\n",
        "student2  78\n",
        "student5  48\n",
        "student7  47\n",
        "b.\n",
        "student3 12\n",
        "student4 14\n",
        "student9 35\n",
        "student6 43\n",
        "student1 45\n",
        "c.\n",
        "student9 35\n",
        "student6 43\n",
        "student1 45\n",
        "student7 47\n",
        "student5 48\n",
        "</pre>"
      ]
    },
    {
      "cell_type": "code",
      "metadata": {
        "id": "cxPJgItsB-kx",
        "outputId": "637ec59f-54ff-446d-bc9a-3aa9b0ad7923",
        "colab": {
          "base_uri": "https://localhost:8080/"
        }
      },
      "source": [
        "# write your python code here\n",
        "# you can take the above example as sample input for your program to test\n",
        "# it should work for any general input try not to hard code for only given input examples\n",
        "\n",
        "# you can free to change all these codes/structure\n",
        "students=['student1','student2','student3','student4','student5','student6','student7','student8','student9','student10'] \n",
        "marks= [45, 78, 12, 14, 48, 43, 47, 98, 35, 80]\n",
        "\n",
        "def display_dash_board(students, marks):\n",
        "    dashboard=dict()\n",
        "    st_top5=dict()\n",
        "    st_least5=dict()\n",
        "    st_percent=dict()\n",
        "    for i in range(len(students)):\n",
        "      dashboard[marks[i]]=students[i]\n",
        "    st_marks=sorted(marks)\n",
        "    top5=st_marks[-1:-6:-1]\n",
        "    least5=st_marks[:5]\n",
        "    #print(dashboard)\n",
        "    for x in top5:\n",
        "      st_top5[dashboard[x]]=x\n",
        "    for x in least5:\n",
        "      st_least5[dashboard[x]]=x\n",
        "    for y in range(int((25/100)*len(st_marks)),int((75/100)*len(st_marks))):\n",
        "      st_percent[dashboard[st_marks[y]]]=st_marks[y]\n",
        "    print(\"Top 5 students:\")\n",
        "    for j,k in st_top5.items():\n",
        "      print(j, k)\n",
        "    print(\"\\nLeast 5 students:\")\n",
        "    for j,k in st_least5.items():\n",
        "      print(j, k)\n",
        "    print(\"\\nMarks between >25th percentile <75th percentile\")\n",
        "    for j,k in st_percent.items():\n",
        "      print(j, k)\n",
        "display_dash_board(students, marks)"
      ],
      "execution_count": 5,
      "outputs": [
        {
          "output_type": "stream",
          "name": "stdout",
          "text": [
            "Top 5 students:\n",
            "student8 98\n",
            "student10 80\n",
            "student2 78\n",
            "student5 48\n",
            "student7 47\n",
            "\n",
            "Least 5 students:\n",
            "student3 12\n",
            "student4 14\n",
            "student9 35\n",
            "student6 43\n",
            "student1 45\n",
            "\n",
            "Marks between >25th percentile <75th percentile\n",
            "student9 35\n",
            "student6 43\n",
            "student1 45\n",
            "student7 47\n",
            "student5 48\n"
          ]
        }
      ]
    },
    {
      "cell_type": "markdown",
      "metadata": {
        "id": "qha0OhQHB-k1"
      },
      "source": [
        "<h3> Q5: Find the closest points</h3>\n",
        "\n",
        "consider you have given n data points in the form of list of tuples like S=[(x1,y1),(x2,y2),(x3,y3),(x4,y4),(x5,y5),..,(xn,yn)] and a point P=(p,q) <br> your task is to find 5 closest points(based on cosine distance) in S from P\n",
        "<br>cosine distance between two points (x,y) and (p,q) is defind as $cos^{-1}(\\frac{(x\\cdot p+y\\cdot q)}{\\sqrt(x^2+y^2)\\cdot\\sqrt(p^2+q^2)})$\n",
        "<pre>\n",
        "Ex:\n",
        "\n",
        "S= [(1,2),(3,4),(-1,1),(6,-7),(0, 6),(-5,-8),(-1,-1)(6,0),(1,-1)]\n",
        "P= (3,-4)\n",
        "<img src='https://i.imgur.com/vIFPOcG.jpg', width=300>\n",
        "Output:\n",
        "(6,-7)\n",
        "(1,-1)\n",
        "(6,0)\n",
        "(-5,-8)\n",
        "(-1,-1)\n",
        "</pre>"
      ]
    },
    {
      "cell_type": "code",
      "metadata": {
        "id": "wA5I1g-2B-k2",
        "outputId": "e6beedcd-b2a2-4968-9b93-16b0f44bb9f4",
        "colab": {
          "base_uri": "https://localhost:8080/"
        }
      },
      "source": [
        "import math\n",
        "\n",
        "# write your python code here\n",
        "# you can take the above example as sample input for your program to test\n",
        "# it should work for any general input try not to hard code for only given input examples\n",
        "# you can free to change all these codes/structure\n",
        "\n",
        "\n",
        "# here S is list of tuples and P is a tuple ot len=2\n",
        "def closest_points_to_p(S,P):\n",
        "  all_dist=dict()\n",
        "  distance=[]\n",
        "  for x in S:\n",
        "    nominator=x[0]*P[0]+x[1]*P[1]\n",
        "    denomitaor=math.sqrt(math.pow(P[0],2)+math.pow(P[1],2))*math.sqrt(math.pow(x[0],2)+math.pow(x[1],2))\n",
        "    dist=math.acos(nominator/denomitaor)\n",
        "    all_dist[dist]=x\n",
        "    distance.append(dist)\n",
        "  distance.sort()\n",
        "  for x in range(5):\n",
        "    print(all_dist.get(distance[x]))\n",
        "S= [(1,2),(3,4),(-1,1),(6,-7),(0, 6),(-5,-8),(-1,-1),(6,0),(1,-1)]\n",
        "P= (3,-4)\n",
        "closest_points_to_p(S,P)\n"
      ],
      "execution_count": 6,
      "outputs": [
        {
          "output_type": "stream",
          "name": "stdout",
          "text": [
            "(6, -7)\n",
            "(1, -1)\n",
            "(6, 0)\n",
            "(-5, -8)\n",
            "(-1, -1)\n"
          ]
        }
      ]
    },
    {
      "cell_type": "markdown",
      "metadata": {
        "id": "-g11jeAiB-k5"
      },
      "source": [
        "<h3> Q6: Find Which line separates oranges and apples</h3>\n",
        "consider you have given two set of data points in the form of list of tuples like \n",
        "<pre>\n",
        "Red =[(R11,R12),(R21,R22),(R31,R32),(R41,R42),(R51,R52),..,(Rn1,Rn2)]\n",
        "Blue=[(B11,B12),(B21,B22),(B31,B32),(B41,B42),(B51,B52),..,(Bm1,Bm2)]\n",
        "</pre>\n",
        "and set of line equations(in the string formate, i.e list of strings)\n",
        "<pre>\n",
        "Lines = [a1x+b1y+c1,a2x+b2y+c2,a3x+b3y+c3,a4x+b4y+c4,..,K lines]\n",
        "Note: you need to string parsing here and get the coefficients of x,y and intercept\n",
        "</pre>\n",
        "your task is to for each line that is given print \"YES\"/\"NO\", you will print yes, if all the red points are one side of the line and blue points are other side of the line, otherwise no\n",
        "<pre>\n",
        "Ex:\n",
        "Red= [(1,1),(2,1),(4,2),(2,4), (-1,4)]\n",
        "Blue= [(-2,-1),(-1,-2),(-3,-2),(-3,-1),(1,-3)]\n",
        "Lines=[\"1x+1y+0\",\"1x-1y+0\",\"1x+0y-3\",\"0x+1y-0.5\"]\n",
        "<img src='https://i.imgur.com/DoQf7mE.jpg' width=400>\n",
        "Output:\n",
        "YES\n",
        "NO\n",
        "NO\n",
        "YES\n",
        "</pre>"
      ]
    },
    {
      "cell_type": "code",
      "metadata": {
        "id": "eRxExaTRB-k6",
        "outputId": "2c3e73cc-6657-4ffb-e9d4-d39548817c73",
        "colab": {
          "base_uri": "https://localhost:8080/"
        }
      },
      "source": [
        "import math\n",
        "# write your python code here\n",
        "# you can take the above example as sample input for your program to test\n",
        "# it should work for any general input try not to hard code for only given input strings\n",
        "\n",
        "\n",
        "# you can free to change all these codes/structure\n",
        "def i_am_the_one(red,blue,line):\n",
        "  a=int(line[0])\n",
        "  b=int(line[2:4])\n",
        "  c=int(line[5:7])\n",
        "  red_res=0\n",
        "  blue_res=0\n",
        "  red_sign='Null'\n",
        "  blue_sign='Null'\n",
        "  seper='Null'\n",
        "  for i in red:\n",
        "    red_res=(a*i[0]+b*i[1]+c)\n",
        "    if red_res<0:\n",
        "      red_sign='Negative'\n",
        "    else:\n",
        "      red_sign='Positive'\n",
        "    for j in blue:\n",
        "      blue_res=(a*j[0]+b*j[1]+c)\n",
        "      if blue_res < 0:\n",
        "        blue_sign='Negative'\n",
        "      else:\n",
        "        blue_sign='Positive'\n",
        "    if red_sign == blue_sign:\n",
        "      seper='No'\n",
        "      break\n",
        "    else:\n",
        "      seper='Yes'\n",
        "      continue\n",
        "  return seper\n",
        "Red= [(1,1),(2,1),(4,2),(2,4),(-1,4)]\n",
        "Blue= [(-2,-1),(-1,-2),(-3,-2),(-3,-1),(1,-3)]\n",
        "Lines=[\"1x+1y+0\",\"1x-1y+0\",\"1x+0y-3\",\"0x+1y-0.5\"]\n",
        "\n",
        "for i in range(len(Lines)):\n",
        "    yes_or_no=i_am_the_one(Red,Blue,Lines[i])\n",
        "    print(yes_or_no) # the returned value"
      ],
      "execution_count": 7,
      "outputs": [
        {
          "output_type": "stream",
          "name": "stdout",
          "text": [
            "Yes\n",
            "No\n",
            "No\n",
            "Yes\n"
          ]
        }
      ]
    },
    {
      "cell_type": "markdown",
      "metadata": {
        "id": "9OBpURbNB-k9"
      },
      "source": [
        "<h3> Q7: Filling the missing values in the specified formate</h3>\n",
        "You will be given a string with digits and '\\_'(missing value) symbols you have to replace the '\\_' symbols as explained \n",
        "<pre>\n",
        "Ex 1: _, _, _, 24 ==> 24/4, 24/4, 24/4, 24/4 i.e we. have distributed the 24 equally to all 4 places <br>\n",
        "Ex 2: 40, _, _, _, 60 ==> (60+40)/5,(60+40)/5,(60+40)/5,(60+40)/5,(60+40)/5 ==> 20, 20, 20, 20, 20 i.e. the sum of (60+40) is distributed qually to all 5 places<br>\n",
        "Ex 3: 80, _, _, _, _  ==> 80/5,80/5,80/5,80/5,80/5 ==> 16, 16, 16, 16, 16 i.e. the 80 is distributed qually to all 5 missing values that are right to it<br>\n",
        "Ex 4: _, _, 30, _, _, _, 50, _, _  \n",
        "==> we will fill the missing values from left to right \n",
        "    a. first we will distribute the 30 to left two missing values (10, 10, 10, _, _, _, 50, _, _)\n",
        "    b. now distribute the sum (10+50) missing values in between (10, 10, 12, 12, 12, 12, 12, _, _) \n",
        "    c. now we will distribute 12 to right side missing values (10, 10, 12, 12, 12, 12, 4, 4, 4)\n",
        "</pre>\n",
        "for a given string with comma seprate values, which will have both missing values numbers like ex: \"_, _, x, _, _, _\"\n",
        "you need fill the missing values\n",
        "\n",
        "Q: your program reads a string like ex: \"_, _, x, _, _, _\" and returns the filled sequence\n",
        "\n",
        "Ex: \n",
        "<pre>\n",
        "Input1: \"_,_,_,24\"\n",
        "Output1: 6,6,6,6\n",
        "\n",
        "Input2: \"40,_,_,_,60\"\n",
        "Output2: 20,20,20,20,20\n",
        "\n",
        "Input3: \"80,_,_,_,_\"\n",
        "Output3: 16,16,16,16,16\n",
        "\n",
        "Input4: \"_,_,30,_,_,_,50,_,_\"\n",
        "Output4: 10,10,12,12,12,12,4,4,4\n",
        "</pre>\n",
        "\n"
      ]
    },
    {
      "cell_type": "code",
      "metadata": {
        "id": "nZmpzHs_B-k-",
        "outputId": "7e0f3878-f62f-42ff-a275-3132d65e4a41",
        "colab": {
          "base_uri": "https://localhost:8080/"
        }
      },
      "source": [
        "def curve_smoothing(word):\n",
        "  st=word.split(\",\")#split text with comma seperated\n",
        "  digit=[]\n",
        "  pair=[]\n",
        "  #Check digit position\n",
        "  for i in range(len(st)):\n",
        "    if st[i].isdigit():\n",
        "      digit.append(i)\n",
        "  if digit[0]!=0:\n",
        "    digit.insert(0,-1)\n",
        "  if digit[-1]!=len(st)-1:\n",
        "    digit.insert(len(digit),-1)\n",
        "  if len(digit)>2:\n",
        "    for i in zip(digit[:-1],digit[1:]):\n",
        "      pair.append(i)\n",
        "  else:\n",
        "    pair.append(digit)\n",
        "  #print(pair)\n",
        "  for x in pair:\n",
        "    if x[0]==-1:\n",
        "      value=int(st[x[1]])/(x[1]+1)\n",
        "      for k in range(x[1]+1):\n",
        "        st[k]=value\n",
        "    elif x[1]==-1:\n",
        "      value=int(st[x[0]])/((len(st)-x[0]))\n",
        "      for k in range(x[0],len(st)):\n",
        "        st[k]=value\n",
        "    else:\n",
        "      value=(int(st[x[0]])+int(st[x[1]]))/(x[1]-x[0]+1)\n",
        "      for k in range(x[0],x[1]+1):\n",
        "        st[k]=value\n",
        "      #print(value)\n",
        "  return st\n",
        "S= [\"_,_,_,24\",\"80,_, _, _, _\",\"40,_,_,_,60\",\"_,_,30,_,_,_,50,_,_\"]\n",
        "for i in S:\n",
        "  smoothed_values=curve_smoothing(i)\n",
        "  print(smoothed_values)"
      ],
      "execution_count": 8,
      "outputs": [
        {
          "output_type": "stream",
          "name": "stdout",
          "text": [
            "[6.0, 6.0, 6.0, 6.0]\n",
            "[16.0, 16.0, 16.0, 16.0, 16.0]\n",
            "[20.0, 20.0, 20.0, 20.0, 20.0]\n",
            "[10.0, 10.0, 12.0, 12.0, 12.0, 12.0, 4.0, 4.0, 4.0]\n"
          ]
        }
      ]
    },
    {
      "cell_type": "markdown",
      "metadata": {
        "id": "RBz4pzlfB-lB"
      },
      "source": [
        "<h3> Q8: Filling the missing values in the specified formate</h3>\n",
        "You will be given a list of lists, each sublist will be of length 2 i.e. [[x,y],[p,q],[l,m]..[r,s]]\n",
        "consider its like a martrix of n rows and two columns\n",
        "1. the first column F will contain only 5 uniques values (F1, F2, F3, F4, F5)\n",
        "2. the second column S will contain only 3 uniques values (S1, S2, S3)\n",
        "<pre>\n",
        "your task is to find\n",
        "a. Probability of P(F=F1|S==S1), P(F=F1|S==S2), P(F=F1|S==S3)\n",
        "b. Probability of P(F=F2|S==S1), P(F=F2|S==S2), P(F=F2|S==S3)\n",
        "c. Probability of P(F=F3|S==S1), P(F=F3|S==S2), P(F=F3|S==S3)\n",
        "d. Probability of P(F=F4|S==S1), P(F=F4|S==S2), P(F=F4|S==S3)\n",
        "e. Probability of P(F=F5|S==S1), P(F=F5|S==S2), P(F=F5|S==S3)\n",
        "</pre>\n",
        "Ex:\n",
        "\n",
        "<pre>\n",
        "[[F1,S1],[F2,S2],[F3,S3],[F1,S2],[F2,S3],[F3,S2],[F2,S1],[F4,S1],[F4,S3],[F5,S1]]\n",
        "\n",
        "a. P(F=F1|S==S1)=1/4, P(F=F1|S==S2)=1/3, P(F=F1|S==S3)=0/3\n",
        "b. P(F=F2|S==S1)=1/4, P(F=F2|S==S2)=1/3, P(F=F2|S==S3)=1/3\n",
        "c. P(F=F3|S==S1)=0/4, P(F=F3|S==S2)=1/3, P(F=F3|S==S3)=1/3\n",
        "d. P(F=F4|S==S1)=1/4, P(F=F4|S==S2)=0/3, P(F=F4|S==S3)=1/3\n",
        "e. P(F=F5|S==S1)=1/4, P(F=F5|S==S2)=0/3, P(F=F5|S==S3)=0/3\n",
        "</pre>\n",
        "\n",
        "\n"
      ]
    },
    {
      "cell_type": "code",
      "metadata": {
        "id": "e-1giz1MB-lC",
        "outputId": "a6951f7e-5810-4973-e514-b48b4a2dc593",
        "colab": {
          "base_uri": "https://localhost:8080/"
        }
      },
      "source": [
        "# write your python code here\n",
        "# you can take the above example as sample input for your program to test\n",
        "# it should work for any general input try not to hard code for only given input strings\n",
        "\n",
        "\n",
        "\n",
        "# you can free to change all these codes/structure\n",
        "def compute_conditional_probabilites(A):\n",
        "  #print(A)\n",
        "  x=set()\n",
        "  y=set()\n",
        "  dic={}\n",
        "  for i in A:\n",
        "    x.add(i[1])\n",
        "    y.add(i[0])\n",
        "  for i in x:\n",
        "    count=0\n",
        "    for j  in A:\n",
        "      if i in j:\n",
        "        count+=1\n",
        "    dic[i]=count\n",
        "  for i in y:\n",
        "    for j in x:\n",
        "      nomi=0\n",
        "      #P(F=F1|S==S1)=1/4, P(F=F1|S==S2)=1/3, P(F=F1|S==S3)=0/3\n",
        "      li=[]\n",
        "      li.append(i)\n",
        "      li.append(j)\n",
        "      #print(li)\n",
        "      #print(j)\n",
        "      for k in A:\n",
        "        if li == k:\n",
        "          nomi+=1\n",
        "      #print(li)\n",
        "      deno=dic.get(j)\n",
        "      print(\" P(F={}|S={})={}/{}\".format(i,j,nomi,deno),end=\"\")\n",
        "    print(\"\\n\")\n",
        "  #print(dic,x,y)\n",
        "\n",
        "A = [['F1','S1'],['F2','S2'],['F3','S3'],['F1','S2'],['F2','S3'],['F3','S2'],['F2','S1'],['F4','S1'],['F4','S3'],['F5','S1']]\n",
        "\n",
        "compute_conditional_probabilites(A)"
      ],
      "execution_count": 9,
      "outputs": [
        {
          "output_type": "stream",
          "name": "stdout",
          "text": [
            " P(F=F4|S=S1)=1/4 P(F=F4|S=S3)=1/3 P(F=F4|S=S2)=0/3\n",
            "\n",
            " P(F=F2|S=S1)=1/4 P(F=F2|S=S3)=1/3 P(F=F2|S=S2)=1/3\n",
            "\n",
            " P(F=F1|S=S1)=1/4 P(F=F1|S=S3)=0/3 P(F=F1|S=S2)=1/3\n",
            "\n",
            " P(F=F3|S=S1)=0/4 P(F=F3|S=S3)=1/3 P(F=F3|S=S2)=1/3\n",
            "\n",
            " P(F=F5|S=S1)=1/4 P(F=F5|S=S3)=0/3 P(F=F5|S=S2)=0/3\n",
            "\n"
          ]
        }
      ]
    },
    {
      "cell_type": "markdown",
      "metadata": {
        "id": "n4HS87QmB-lF"
      },
      "source": [
        "<h3> Q9: Given two sentances S1, S2</h3>\n",
        "You will be given two sentances S1, S2 your task is to find \n",
        "<pre>\n",
        "a. Number of common words between S1, S2\n",
        "b. Words in S1 but not in S2\n",
        "c. Words in S2 but not in S1\n",
        "</pre>\n",
        "\n",
        "Ex: \n",
        "<pre>\n",
        "S1= \"the first column F will contain only 5 uniques values\"\n",
        "S2= \"the second column S will contain only 3 uniques values\"\n",
        "Output:\n",
        "a. 7\n",
        "b. ['first','F','5']\n",
        "c. ['second','S','3']\n",
        "</pre>"
      ]
    },
    {
      "cell_type": "code",
      "metadata": {
        "id": "Ez7hlHK0B-lG",
        "outputId": "80684075-fc88-4703-cc5d-a0b39d60fc61",
        "colab": {
          "base_uri": "https://localhost:8080/"
        }
      },
      "source": [
        "# write your python code here\n",
        "# you can take the above example as sample input for your program to test\n",
        "# it should work for any general input try not to hard code for only given input strings\n",
        "\n",
        "# you can free to change all these codes/structure\n",
        "def string_features(S1, S2):\n",
        "  word1=set()\n",
        "  word2=set()\n",
        "  common=set()\n",
        "  S1=S1.split(\" \")\n",
        "  S2=S2.split(\" \")\n",
        "  #print(S1)\n",
        "  for i in S1:\n",
        "    word1.add(i)\n",
        "  for i in S2:\n",
        "    word2.add(i)\n",
        "  #print(word1-word2)\n",
        "  b=word1-word2\n",
        "  c=word2-word1\n",
        "  a=len(word1.intersection(word2))\n",
        "  #print(a,b,c)\n",
        "  return a,b,c\n",
        "S1= \"the first column F will contain only 5 uniques values\"\n",
        "S2= \"the second column S will contain only 3 uniques values\"\n",
        "#string_features(S1,S2)\n",
        "a,b,c = string_features(S1, S2)\n",
        "print(\"{}\\n{}\\n{}\".format(a,b,c))"
      ],
      "execution_count": 10,
      "outputs": [
        {
          "output_type": "stream",
          "name": "stdout",
          "text": [
            "7\n",
            "{'5', 'first', 'F'}\n",
            "{'S', '3', 'second'}\n"
          ]
        }
      ]
    },
    {
      "cell_type": "markdown",
      "metadata": {
        "id": "XefXVEjCB-lI"
      },
      "source": [
        "<h3> Q10: Given two sentances S1, S2</h3>\n",
        "You will be given a list of lists, each sublist will be of length 2 i.e. [[x,y],[p,q],[l,m]..[r,s]]\n",
        "consider its like a martrix of n rows and two columns\n",
        "\n",
        "a. the first column Y will contain interger values <br>\n",
        "b. the second column $Y_{score}$ will be having float values <br>\n",
        "Your task is to find the value of $f(Y,Y_{score}) = -1*\\frac{1}{n}\\Sigma_{for each Y,Y_{score} pair}(Ylog10(Y_{score})+(1-Y)log10(1-Y_{score}))$ here n is the number of rows in the matrix\n",
        "<pre>\n",
        "Ex:\n",
        "[[1, 0.4], [0, 0.5], [0, 0.9], [0, 0.3], [0, 0.6], [1, 0.1], [1, 0.9], [1, 0.8]]\n",
        "output:\n",
        "0.4243099\n",
        "</pre>\n",
        "$\\frac{-1}{8}\\cdot((1\\cdot log_{10}(0.4)+0\\cdot log_{10}(0.6))+(0\\cdot log_{10}(0.5)+1\\cdot log_{10}(0.5)) + ... + (1\\cdot log_{10}(0.8)+0\\cdot log_{10}(0.2)) )$"
      ]
    },
    {
      "cell_type": "code",
      "metadata": {
        "id": "N9zkagyNB-lJ",
        "outputId": "87cf8de4-f667-46ef-f3b4-868a96c87bbc",
        "colab": {
          "base_uri": "https://localhost:8080/"
        }
      },
      "source": [
        "## write your python code here\n",
        "# you can take the above example as sample input for your program to test\n",
        "# it should work for any general input try not to hard code for only given input strings\n",
        "\n",
        "\n",
        "# you can free to change all these codes/structure\n",
        "import math\n",
        "def compute_log_loss(A):\n",
        "  value=0\n",
        "  for i in A:\n",
        "    value+=(i[0]*math.log10(i[1]))+((1-i[0])*(math.log10(1-i[1])))\n",
        "  value=(value/len(A))*(-1)\n",
        "  return value\n",
        "\n",
        "A = [[1,0.4],[0,0.5],[0,0.9],[0,0.3],[0,0.6],[1,0.1],[1,0.9],[1,0.8]]\n",
        "loss = compute_log_loss(A)\n",
        "print(loss)"
      ],
      "execution_count": 11,
      "outputs": [
        {
          "output_type": "stream",
          "name": "stdout",
          "text": [
            "0.42430993457031635\n"
          ]
        }
      ]
    },
    {
      "cell_type": "code",
      "source": [
        ""
      ],
      "metadata": {
        "id": "m7MnU_1IwtIS"
      },
      "execution_count": null,
      "outputs": []
    }
  ]
}